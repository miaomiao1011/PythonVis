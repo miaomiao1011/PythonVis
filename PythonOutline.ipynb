{
 "cells": [
  {
   "cell_type": "code",
   "execution_count": null,
   "metadata": {},
   "outputs": [],
   "source": [
    "# Import pandas and pyplot\n"
   ]
  },
  {
   "cell_type": "code",
   "execution_count": null,
   "metadata": {},
   "outputs": [],
   "source": [
    "# Make a simple line plot\n",
    "# Add another line\n",
    "# Add title, x/y lables and legend\n",
    "\n"
   ]
  },
  {
   "cell_type": "code",
   "execution_count": null,
   "metadata": {},
   "outputs": [],
   "source": [
    "# Import \"worldcountries.csv\"\n",
    "# print top 5 rows\n",
    "\n"
   ]
  },
  {
   "cell_type": "code",
   "execution_count": null,
   "metadata": {},
   "outputs": [],
   "source": [
    "# check the df shape, describe variables types,unique values\n"
   ]
  },
  {
   "cell_type": "markdown",
   "metadata": {},
   "source": [
    "# Pie chart"
   ]
  },
  {
   "cell_type": "code",
   "execution_count": null,
   "metadata": {},
   "outputs": [],
   "source": [
    "# check 2018 Country count group by Region and save it in \"CountryCount\"\n"
   ]
  },
  {
   "cell_type": "code",
   "execution_count": null,
   "metadata": {},
   "outputs": [],
   "source": [
    "# make a pie chart show label and percentage (autopct='%1.1f%%')\n",
    "\n"
   ]
  },
  {
   "cell_type": "code",
   "execution_count": null,
   "metadata": {},
   "outputs": [],
   "source": [
    "# Your turn: check 2018 Population sum by Region and save it in \"Pop_By_Region\" \n"
   ]
  },
  {
   "cell_type": "code",
   "execution_count": null,
   "metadata": {},
   "outputs": [],
   "source": [
    "# Make a pie chart with \"Pop_By_Region\" (plt.pie(data,labels))\n"
   ]
  },
  {
   "cell_type": "markdown",
   "metadata": {},
   "source": [
    "# Bar chart"
   ]
  },
  {
   "cell_type": "code",
   "execution_count": null,
   "metadata": {},
   "outputs": [],
   "source": [
    "# Calculate \"GDPEKS\" sum by region for 2018 and save the result in \"GDP_By_Region\" (data in millions, make it in billions)\n"
   ]
  },
  {
   "cell_type": "code",
   "execution_count": null,
   "metadata": {},
   "outputs": [],
   "source": [
    "# Make a bar chart with \"GDP_By_Region\" (plt.bar(x,y), xticks to rotate)\n"
   ]
  },
  {
   "cell_type": "markdown",
   "metadata": {},
   "source": [
    "# Line Chart"
   ]
  },
  {
   "cell_type": "code",
   "execution_count": null,
   "metadata": {},
   "outputs": [],
   "source": [
    "# Make a line chart to compare US, China Population over the years and add legend(plt.plot(x,y))\n"
   ]
  },
  {
   "cell_type": "code",
   "execution_count": null,
   "metadata": {},
   "outputs": [],
   "source": [
    "# Your turn: Plot Germany, China, US \"PopulationGrowth\" over the years \n",
    "\n"
   ]
  },
  {
   "cell_type": "markdown",
   "metadata": {},
   "source": [
    "# Histgram"
   ]
  },
  {
   "cell_type": "code",
   "execution_count": null,
   "metadata": {},
   "outputs": [],
   "source": [
    "# Make a histgram for 2018 \"PerCapitaIncome\" (plt.hist(data,bins), plt.rcParams['axes.xmargin']=0)\n"
   ]
  },
  {
   "cell_type": "code",
   "execution_count": null,
   "metadata": {},
   "outputs": [],
   "source": [
    "Rich=df[(df.Year==2018) & (df.PerCapitaIncome>60000)]\n",
    "\n",
    "Rich[['Country','Region','PerCapitaIncome']].sort_values(by='PerCapitaIncome',ascending=False)"
   ]
  },
  {
   "cell_type": "markdown",
   "metadata": {},
   "source": [
    "# Subplot"
   ]
  },
  {
   "cell_type": "code",
   "execution_count": null,
   "metadata": {},
   "outputs": [],
   "source": [
    "# Make subplots to compare \"Asia\" and \"West Europe\" \"PerCapitaIncome\"\n",
    "Asia2018=\n",
    "Europe2018=\n",
    "\n",
    "plt.subplot(2,1,1)\n",
    "plt.title\n",
    "plt.hist(data, bins,range=(0,50000),edgecolor='black')\n",
    "plt.ylabel\n",
    "\n",
    "plt.subplot(2,1,2)\n",
    "plt.hist(data, bins,range=(0,50000),edgecolor='black')\n",
    "plt.ylabel\n",
    "\n",
    "plt.show()"
   ]
  },
  {
   "cell_type": "markdown",
   "metadata": {},
   "source": [
    "# Scatter Plot"
   ]
  },
  {
   "cell_type": "code",
   "execution_count": null,
   "metadata": {},
   "outputs": [],
   "source": [
    "# Your turn: make a scatter plot for OutputPerHourWorked and df.PerCapitaIncome\n",
    "plt.scatter(x,y)\n",
    "\n"
   ]
  },
  {
   "cell_type": "code",
   "execution_count": null,
   "metadata": {},
   "outputs": [],
   "source": [
    "# Add a regression line to the scatter plot with Seaborn\n",
    "Import seaborn as sns\n",
    "sns.regplot(x=df.OutputPerHourWorked, y=df.PerCapitaIncome, line_kws={\"color\":\"r\",\"alpha\":1,\"lw\":3})\n",
    "\n",
    "plt.xlabel('Output Per Hour Worked')\n",
    "plt.ylabel('GDP Per Capita')\n",
    "\n",
    "plt.show()\n"
   ]
  },
  {
   "cell_type": "markdown",
   "metadata": {},
   "source": [
    "# Boxplot"
   ]
  },
  {
   "cell_type": "code",
   "execution_count": null,
   "metadata": {},
   "outputs": [],
   "source": [
    "# Make a boxplot to compare 2018 Asia and Europe PerCapitaIncome\n",
    "Asia_Europe=df[((df.Region=='Asia') | (df.Region=='Western Europe'))& (df.Year==2018)]\n",
    "my_color={\"Asia\":\"g\",\"Western Europe\":'R'}\n",
    "sns.boxplot( x=Asia_Europe.Region, y=Asia_Europe[\"PerCapitaIncome\"]/10**3, palette=my_color)"
   ]
  }
 ],
 "metadata": {
  "kernelspec": {
   "display_name": "Python 3",
   "language": "python",
   "name": "python3"
  },
  "language_info": {
   "codemirror_mode": {
    "name": "ipython",
    "version": 3
   },
   "file_extension": ".py",
   "mimetype": "text/x-python",
   "name": "python",
   "nbconvert_exporter": "python",
   "pygments_lexer": "ipython3",
   "version": "3.6.5"
  }
 },
 "nbformat": 4,
 "nbformat_minor": 2
}
