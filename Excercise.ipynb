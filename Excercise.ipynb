{
 "cells": [
  {
   "cell_type": "code",
   "execution_count": null,
   "metadata": {},
   "outputs": [],
   "source": [
    "#import Pandas \n",
    "\n",
    "#import \"GlobalFoodProduction\" into Pandas datafram\n",
    "\n",
    "#print out top 5 rows\n"
   ]
  },
  {
   "cell_type": "code",
   "execution_count": null,
   "metadata": {},
   "outputs": [],
   "source": [
    "#import pyplot\n",
    "\n",
    "#make a histogram to show the distribution of latitude in the dataframe\n",
    "\n",
    "#xlabel as 'Latitude'\n"
   ]
  },
  {
   "cell_type": "code",
   "execution_count": null,
   "metadata": {},
   "outputs": [],
   "source": [
    "#select data relevant to Food production(in \"Element\" column)\n",
    "\n",
    "#group the data by 'Area' and sum the values for 'Y2013'\n",
    "\n",
    "#sort the value ascending, and plot\n",
    "#get the last 10 values in the barchart\n",
    "\n",
    "#add the title \"Top Ten Food Producers\"\n",
    "\n",
    "#ylabel \"Food Produced\"\n",
    "\n"
   ]
  }
 ],
 "metadata": {
  "kernelspec": {
   "display_name": "Python 3",
   "language": "python",
   "name": "python3"
  },
  "language_info": {
   "codemirror_mode": {
    "name": "ipython",
    "version": 3
   },
   "file_extension": ".py",
   "mimetype": "text/x-python",
   "name": "python",
   "nbconvert_exporter": "python",
   "pygments_lexer": "ipython3",
   "version": "3.6.5"
  }
 },
 "nbformat": 4,
 "nbformat_minor": 2
}
